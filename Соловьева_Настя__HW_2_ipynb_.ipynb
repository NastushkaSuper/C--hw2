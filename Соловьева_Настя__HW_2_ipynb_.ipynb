{
  "nbformat": 4,
  "nbformat_minor": 0,
  "metadata": {
    "kernelspec": {
      "display_name": "Python 3 (ipykernel)",
      "language": "python",
      "name": "python3"
    },
    "language_info": {
      "codemirror_mode": {
        "name": "ipython",
        "version": 3
      },
      "file_extension": ".py",
      "mimetype": "text/x-python",
      "name": "python",
      "nbconvert_exporter": "python",
      "pygments_lexer": "ipython3",
      "version": "3.8.6"
    },
    "colab": {
      "name": "Соловьева Настя \"HW-2.ipynb\"",
      "provenance": [],
      "collapsed_sections": []
    }
  },
  "cells": [
    {
      "cell_type": "markdown",
      "metadata": {
        "id": "A3posBit_v77"
      },
      "source": [
        "# Домашнее задание №2 ( балла)\n",
        "\n",
        "## дедлайн 7 октября 18:10\n",
        "### 10 или 9 можно получить, если сдать домашнее задание полностью до 3 октября 23:59, а также верно выполнить задания со звездочками\n",
        "\n",
        "\n",
        "Цель:\n",
        "\n",
        "Отработать навыки работы с основными типами данных в Python.\n",
        "Отработать навыки работы с основными структурами данных в Python."
      ]
    },
    {
      "cell_type": "markdown",
      "metadata": {
        "id": "V3_p-c6m_v78"
      },
      "source": [
        "**NB!** Задания необходимо выполнять таким образом, что переменную/-ые можно было заменить на схожее слово/число/текст/список/и т.д., при этом задание все равно выполнялось бы верно."
      ]
    },
    {
      "cell_type": "markdown",
      "metadata": {
        "id": "5IHy3DUz_v8G"
      },
      "source": [
        "### Часть 1. Списки (16 баллов)"
      ]
    },
    {
      "cell_type": "markdown",
      "metadata": {
        "id": "LF37caBG_v8G"
      },
      "source": [
        "1. (2 балла) Пользователь вводит несколько чисел через запятую. Сделайте из этих чисел список, подсчитайте сумму элементов, среднее, максимальное и минимальное значение. Все результаты подсчетов выведите на экран"
      ]
    },
    {
      "cell_type": "code",
      "metadata": {
        "id": "-LK-7l2V_v8G",
        "colab": {
          "base_uri": "https://localhost:8080/"
        },
        "outputId": "9944c47a-f958-4eef-f954-40cbb971aadc"
      },
      "source": [
        "\n",
        "numbers = input(\"Введите числа через запятую: \")\n",
        "numbers_list = [int(i) for i in numbers.split(\",\")]\n",
        "print(numbers_list)\n",
        "print(\"Сумма элементов: \", sum(numbers_list))\n",
        "print(\"Минимальный элемент: \", min(numbers_list))\n",
        "print(\"Максимальный элемент: \", max(numbers_list))\n",
        "print(\"Среднее значение: \", sum(numbers_list)/len(numbers_list))\n"
      ],
      "execution_count": 1,
      "outputs": [
        {
          "output_type": "stream",
          "name": "stdout",
          "text": [
            "Введите числа через запятую: 1,2,3\n",
            "[1, 2, 3]\n",
            "Сумма элементов:  6\n",
            "Минимальный элемент:  1\n",
            "Максимальный элемент:  3\n",
            "Среднее значение:  2.0\n"
          ]
        }
      ]
    },
    {
      "cell_type": "markdown",
      "metadata": {
        "id": "KLUTNmQk_v8G"
      },
      "source": [
        "2. (2 балла) Даны два списка. \"Слить\" их через один (чередуя элементы то одного, то другого списка).\n",
        "\n",
        "`f = [1,2,3]`\n",
        "\n",
        "`s = ['1','2','3']`\n",
        "\n",
        "Ожидаемый результат:\n",
        "\n",
        "`[1, '1', 2, '2', 3, '3']`\n"
      ]
    },
    {
      "cell_type": "markdown",
      "metadata": {
        "id": "1be1P1k5_v8H"
      },
      "source": [
        "* _Список может быть любого размера, а ваш код все равно должен работать._\n",
        "* _можно заработать + 2 балла к заданию, если сделать его в одну строку_"
      ]
    },
    {
      "cell_type": "code",
      "metadata": {
        "id": "y1VqZ_7P_v8H",
        "colab": {
          "base_uri": "https://localhost:8080/"
        },
        "outputId": "7fdefc4b-b8b6-4e90-8014-baae9f88964e"
      },
      "source": [
        "f = [1,2,3]\n",
        "s = ['1','2','3']\n",
        "new_list = []\n",
        "\n",
        "for id, val in enumerate(f):\n",
        "    new_list.append(val)\n",
        "    new_list.append(s[id])\n",
        "print(new_list)\n",
        "  "
      ],
      "execution_count": 2,
      "outputs": [
        {
          "output_type": "stream",
          "name": "stdout",
          "text": [
            "[1, '1', 2, '2', 3, '3']\n"
          ]
        }
      ]
    },
    {
      "cell_type": "markdown",
      "metadata": {
        "id": "wAsDtE_0_v8H"
      },
      "source": [
        "3. (4 балла) Создайте следующий лист: \n",
        "\n",
        "`months = [\n",
        "'Декабрь', 'Январь', 'Февраль',\n",
        "'Март', 'Апрель', 'Май',\n",
        "'Июнь', 'Июль', 'Август',\n",
        "'Сентябрь', 'Октябрь', 'Ноябрь'\n",
        "]`. \n",
        "\n",
        "Ваша задача получить из него:\n",
        "    - все зимние месяцы\n",
        "    - все летние месяцы\n",
        "    - каждый второй месяц года начиная с Января\n",
        "    - первые месяцы каждого сезона (4),\n",
        "\n",
        "используя `slice`."
      ]
    },
    {
      "cell_type": "code",
      "metadata": {
        "id": "ol-aAzBb_v8H",
        "colab": {
          "base_uri": "https://localhost:8080/"
        },
        "outputId": "f61f7691-b98c-4368-daf3-b0cf770c836a"
      },
      "source": [
        "months = [ 'Декабрь', 'Январь', 'Февраль', 'Март', 'Апрель', 'Май', 'Июнь', 'Июль', 'Август', 'Сентябрь', 'Октябрь', 'Ноябрь' ]\n",
        "months[ :3], months[6:9]\n",
        "months[slice(1,len(months),2)]\n",
        "months[slice(0,len(months),3)]"
      ],
      "execution_count": 4,
      "outputs": [
        {
          "output_type": "execute_result",
          "data": {
            "text/plain": [
              "['Декабрь', 'Март', 'Июнь', 'Сентябрь']"
            ]
          },
          "metadata": {},
          "execution_count": 4
        }
      ]
    },
    {
      "cell_type": "markdown",
      "metadata": {
        "id": "dyFDN1th_v8H"
      },
      "source": [
        "4. (3 балла) Создайте list \n",
        "\n",
        "`weekdays = ['Понедельник', 2, 'Cреда', 'Четверг', 5]`\n",
        "\n",
        "- Исправьте числа 2 и 5 на Вторник и Пятницу соответственно\n",
        "- Добавьте недостающие дни в конец списка\n",
        "- Посчитайте длину итогового листа"
      ]
    },
    {
      "cell_type": "code",
      "metadata": {
        "id": "mpUCmwn4_v8H",
        "colab": {
          "base_uri": "https://localhost:8080/"
        },
        "outputId": "ed7885b7-04ca-4328-e30d-9e187a44984e"
      },
      "source": [
        "weekdays = ['Понедельник', 2, 'Cреда', 'Четверг', 5]\n",
        "weekdays[1]=\"Вторник\"\n",
        "weekdays[4]=\"Пятница\"\n",
        "weekdays.append(\"Суббота\")\n",
        "weekdays.append(\"Воскресенье\")\n",
        "print(weekdays)\n",
        "l = len(weekdays)\n",
        "print(l)\n",
        " "
      ],
      "execution_count": 6,
      "outputs": [
        {
          "output_type": "stream",
          "name": "stdout",
          "text": [
            "['Понедельник', 'Вторник', 'Cреда', 'Четверг', 'Пятница', 'Суббота', 'Воскресенье']\n",
            "7\n"
          ]
        }
      ]
    },
    {
      "cell_type": "markdown",
      "metadata": {
        "id": "sX7Pyq8d_v8H"
      },
      "source": [
        "5. (3 балла) Создайте строку (str) `'йтцыу фочтмлзирчйнбою асапырйафвялгяшещшоьрскяу!й'`\n",
        "\n",
        "    - Превратите ее в лист символов\n",
        "    - Расшифруйте закодированное в ней сообщение, выбрав из всех символов только символы с **нечетным** индексом\n",
        "    - Превратите полученный лист обратно в строку и напечатайте результат\n",
        "\n",
        "**Hint** вам понадобится функция `.join()`"
      ]
    },
    {
      "cell_type": "code",
      "metadata": {
        "id": "fJozshnzC69S",
        "colab": {
          "base_uri": "https://localhost:8080/"
        },
        "outputId": "5cc9720e-3216-4af8-8ebf-287aadb990f9"
      },
      "source": [
        "str = 'йтцыу фочтмлзирчйнбою асапырйафвялгяшещшоьрскяу!й'\n",
        "str_list = list(str)\n",
        "new_list = []\n",
        "for i in range(1, len(str_list), 2):\n",
        "\tnew_list.append(str_list[i])\n",
        "final_str = \"\".join(new_list)\n",
        "print(final_str)"
      ],
      "execution_count": 7,
      "outputs": [
        {
          "output_type": "stream",
          "name": "stdout",
          "text": [
            "ты отлично справляешься!\n"
          ]
        }
      ]
    },
    {
      "cell_type": "markdown",
      "metadata": {
        "id": "hI1vaX97DLgo"
      },
      "source": [
        "6. (2 балла) Дан список (придумайте любой и положите в переменную `my_list`, `input()` использовать не нужно). Проверить, содержит ли данный список повторяющиеся элементы, удалить повторяющиеся элементы (без использования `dict` и `set`)"
      ]
    },
    {
      "cell_type": "code",
      "metadata": {
        "id": "c4_1mkhp_v8H",
        "colab": {
          "base_uri": "https://localhost:8080/"
        },
        "outputId": "44f1b668-4339-4726-ee24-e54803772144"
      },
      "source": [
        "\n",
        "my_list = [10, 10, 23, 10, 123, 66, 78, 123]\n",
        "flag = False\n",
        "for i in range(len(my_list)-1):\n",
        "     if flag:\n",
        "         break\n",
        "     for j in range(i+1, len(my_list)):\n",
        "         if my_list[i] == my_list[j]:\n",
        "             flag = True\n",
        "             break\n",
        " \n",
        "if flag:\n",
        "     print(\"Есть одинаковые элементы\")\n",
        "else:\n",
        "     print(\"Все элементы уникальны\")\n",
        "\n",
        "  \n",
        "\n",
        "\n",
        "\n",
        "\n",
        "\n",
        "\n",
        "\n",
        "\n"
      ],
      "execution_count": 8,
      "outputs": [
        {
          "output_type": "stream",
          "name": "stdout",
          "text": [
            "Есть одинаковые элементы\n"
          ]
        }
      ]
    },
    {
      "cell_type": "markdown",
      "metadata": {
        "id": "nSJWKkvq_v8I"
      },
      "source": [
        "### Часть 2. Кортежи (3 балла)"
      ]
    },
    {
      "cell_type": "markdown",
      "metadata": {
        "id": "hFX4GTq1_v8I"
      },
      "source": [
        "29. (1 балл) Создать кортеж из одного элемента."
      ]
    },
    {
      "cell_type": "code",
      "metadata": {
        "id": "_qcdWtzz_v8I",
        "colab": {
          "base_uri": "https://localhost:8080/"
        },
        "outputId": "8481110b-1d0e-4486-ea60-6556519361e5"
      },
      "source": [
        "a = ('s')\n",
        "print(a)"
      ],
      "execution_count": 9,
      "outputs": [
        {
          "output_type": "stream",
          "name": "stdout",
          "text": [
            "s\n"
          ]
        }
      ]
    },
    {
      "cell_type": "markdown",
      "metadata": {
        "id": "WFrsJtZr_v8I"
      },
      "source": [
        "30. (1 балл) Создайте кортеж из списка, напечатайте его.\n",
        "\n",
        "`months = [\n",
        "'Январь', 'Февраль',\n",
        "'Март', 'Апрель', 'Май',\n",
        "'Июнь', 'Июль', 'Август',\n",
        "'Сентябрь', 'Октябрь', 'Ноябрь'\n",
        "]`"
      ]
    },
    {
      "cell_type": "code",
      "metadata": {
        "id": "1zL4nMN4_v8I",
        "colab": {
          "base_uri": "https://localhost:8080/"
        },
        "outputId": "83daa259-e4be-47b7-81ab-ff1665f3c369"
      },
      "source": [
        "months = [ 'Январь', 'Февраль', 'Март', 'Апрель', 'Май', 'Июнь', 'Июль', 'Август', 'Сентябрь', 'Октябрь', 'Ноябрь' ]\n",
        "print(tuple(months))"
      ],
      "execution_count": null,
      "outputs": [
        {
          "output_type": "stream",
          "name": "stdout",
          "text": [
            "('Январь', 'Февраль', 'Март', 'Апрель', 'Май', 'Июнь', 'Июль', 'Август', 'Сентябрь', 'Октябрь', 'Ноябрь')\n"
          ]
        }
      ]
    },
    {
      "cell_type": "markdown",
      "metadata": {
        "id": "iGn7e0Ow_v8I"
      },
      "source": [
        "31. (1 балл) Добавьте недостающий месяц (на выходе ожидается кортеж)"
      ]
    },
    {
      "cell_type": "code",
      "metadata": {
        "id": "ZdD0BuYU_v8I",
        "colab": {
          "base_uri": "https://localhost:8080/"
        },
        "outputId": "93e17dbb-bfd8-459d-f055-09db283fd26f"
      },
      "source": [
        "months = [ 'Январь', 'Февраль', 'Март', 'Апрель', 'Май', 'Июнь', 'Июль', 'Август', 'Сентябрь', 'Октябрь', 'Ноябрь' ]\n",
        "months.append('Декабрь')\n",
        "print('all_months:', months)\n",
        "tuple(months)"
      ],
      "execution_count": null,
      "outputs": [
        {
          "output_type": "stream",
          "name": "stdout",
          "text": [
            "all_months: ['Январь', 'Февраль', 'Март', 'Апрель', 'Май', 'Июнь', 'Июль', 'Август', 'Сентябрь', 'Октябрь', 'Ноябрь', 'Декабрь']\n"
          ]
        },
        {
          "output_type": "execute_result",
          "data": {
            "text/plain": [
              "('Январь',\n",
              " 'Февраль',\n",
              " 'Март',\n",
              " 'Апрель',\n",
              " 'Май',\n",
              " 'Июнь',\n",
              " 'Июль',\n",
              " 'Август',\n",
              " 'Сентябрь',\n",
              " 'Октябрь',\n",
              " 'Ноябрь',\n",
              " 'Декабрь')"
            ]
          },
          "metadata": {},
          "execution_count": 48
        }
      ]
    },
    {
      "cell_type": "markdown",
      "metadata": {
        "id": "netCKvWK_v8I"
      },
      "source": [
        "### Часть 3. Сеты (4 балла)"
      ]
    },
    {
      "cell_type": "markdown",
      "metadata": {
        "id": "vmpZWO8Z_v8I"
      },
      "source": [
        "32. (1 балл) Посчитать, сколько различных букв в слове 'превысокомногорассмотрительствующий'"
      ]
    },
    {
      "cell_type": "code",
      "metadata": {
        "id": "IUBHgO78_v8J",
        "colab": {
          "base_uri": "https://localhost:8080/"
        },
        "outputId": "50f69cf8-cfbe-444b-d07e-27ba08d3dacd"
      },
      "source": [
        "word = \"превысокомногорассмотрительствующий\"\n",
        "set_word = set(word)\n",
        "print(len(set_word))"
      ],
      "execution_count": null,
      "outputs": [
        {
          "output_type": "stream",
          "name": "stdout",
          "text": [
            "20\n"
          ]
        }
      ]
    },
    {
      "cell_type": "markdown",
      "metadata": {
        "id": "EtPaMLQO_v8J"
      },
      "source": [
        "33. (1 балл) Какие различные буквы имеют слова \"превысокомногорассмотрительствующий\" и \"водогрязеторфопарафинолечение\"?"
      ]
    },
    {
      "cell_type": "code",
      "metadata": {
        "id": "dwIdysLu_v8J",
        "colab": {
          "base_uri": "https://localhost:8080/"
        },
        "outputId": "481b2552-5d0f-4ccf-f5db-345a4952c3be"
      },
      "source": [
        "word1 = \"превысокомногорассмотрительствующий\"\n",
        "word2 = \"водогрязеторфопарафинолечение\"\n",
        "list(word1), list(word2)\n",
        "word1_set = set(list(word1))\n",
        "word2_set = set(list(word2))\n",
        "word1_set.symmetric_difference(word2_set)\n",
        "\n",
        "\n"
      ],
      "execution_count": 10,
      "outputs": [
        {
          "output_type": "execute_result",
          "data": {
            "text/plain": [
              "{'д', 'з', 'й', 'к', 'м', 'с', 'у', 'ф', 'ч', 'щ', 'ы', 'ь', 'ю', 'я'}"
            ]
          },
          "metadata": {},
          "execution_count": 10
        }
      ]
    },
    {
      "cell_type": "markdown",
      "metadata": {
        "id": "UQxsVL3w_v8J"
      },
      "source": [
        "34. (1 балл) Какие общие буквы имеют слова \"превысокомногорассмотрительствующий\" и \"водогрязеторфопарафинолечение\"?"
      ]
    },
    {
      "cell_type": "code",
      "metadata": {
        "id": "unSFfV_a_v8J",
        "colab": {
          "base_uri": "https://localhost:8080/"
        },
        "outputId": "5926c960-a3de-4526-e14b-541d0052b54b"
      },
      "source": [
        "word1 = \"превысокомногорассмотрительствующий\"\n",
        "word2 = \"водогрязеторфопарафинолечение\"\n",
        "list(word1), list(word2)\n",
        "word1_set = set(list(word1))\n",
        "word2_set = set(list(word2))\n",
        "word1_set.intersection(word2_set)"
      ],
      "execution_count": null,
      "outputs": [
        {
          "output_type": "execute_result",
          "data": {
            "text/plain": [
              "{'а', 'в', 'г', 'е', 'и', 'л', 'н', 'о', 'п', 'р', 'т'}"
            ]
          },
          "metadata": {},
          "execution_count": 34
        }
      ]
    },
    {
      "cell_type": "markdown",
      "metadata": {
        "id": "GauGi3oF_v8J"
      },
      "source": [
        "35. (1 балл) Есть ли буквы в слове \"превысокомногорассмотрительствующий\", которых нет в слове \"водогрязеторфопарафинолечение\"? А наоборот?"
      ]
    },
    {
      "cell_type": "code",
      "metadata": {
        "id": "TfTtSHFY_v8J",
        "colab": {
          "base_uri": "https://localhost:8080/"
        },
        "outputId": "47aedc95-f94f-4be7-c9e0-d6ade9874a04"
      },
      "source": [
        "word1 = \"превысокомногорассмотрительствующий\"\n",
        "word2 = \"водогрязеторфопарафинолечение\"\n",
        "list(word1), list(word2)\n",
        "word1_set = set(list(word1))\n",
        "word2_set = set(list(word2))\n",
        "\n",
        "if word1_set.issubset(word2_set):\n",
        "  print(\"В слове \" + word1 + \" есть только буквы из слова \" + word2)\n",
        "else:\n",
        "  print(\"В слове \" + word1 + \" есть буквы, которых нет в слове \" + word2)\n",
        "\n",
        "if word2_set.issubset(word1_set):\n",
        "  print(\"В слове \" + word2 + \" есть только буквы из слова \" + word1)\n",
        "else:\n",
        "  print(\"В слове \" + word2 + \" есть буквы, которых нет в слове \" + word1)"
      ],
      "execution_count": 11,
      "outputs": [
        {
          "output_type": "stream",
          "name": "stdout",
          "text": [
            "В слове превысокомногорассмотрительствующий есть буквы, которых нет в слове водогрязеторфопарафинолечение\n",
            "В слове водогрязеторфопарафинолечение есть буквы, которых нет в слове превысокомногорассмотрительствующий\n"
          ]
        }
      ]
    },
    {
      "cell_type": "markdown",
      "metadata": {
        "id": "E2sczfkn_v8J"
      },
      "source": [
        "### Часть 6. Словари и полезные вещи (10 баллов)"
      ]
    },
    {
      "cell_type": "markdown",
      "metadata": {
        "id": "VxZ4E8JhEHxD"
      },
      "source": [
        "Дан текст. Текст приведен к начальной форме уже за вас (мы это научимся делать на следующем занятии).\n",
        "```\n",
        "1. DJ Khaled замутить трек, в который читать только Drake. \n",
        "2. Drake организовывать на этот песня очень крутой клип, в который вместо он сниматься только джастин бибер.\n",
        "\n",
        "видимо, награда за весь это быть получать леонардо дикаприо 😅\n",
        "\n",
        "в клип джастин, кстати, выглядеть очень бодрый и наконец выздоравливать от болезнь и депрессия.\n",
        "отдельный прикол в то, что он там «читать» строчка про свой бывший девушка селен гомес, про себя сам и про то, насколько дрейк - крутой они все и взрывать индустрия 😂🤟\n",
        "```"
      ]
    },
    {
      "cell_type": "markdown",
      "metadata": {
        "id": "hGBIV3hS_v8K"
      },
      "source": [
        "36. (1 балл) Запишите его в переменную. Обратите внимание, что текст многострочный -- переносы строки нужно сохранить!"
      ]
    },
    {
      "cell_type": "code",
      "metadata": {
        "id": "BLB2YgyY_v8K"
      },
      "source": [
        "multi_line_str = '''1. DJ Khaled замутить трек, в который читать только Drake. \n",
        "2. Drake организовывать на этот песня очень крутой клип, в который вместо он сниматься только джастин бибер.\n",
        "\n",
        "видимо, награда за весь это быть получать леонардо дикаприо 😅\n",
        "\n",
        "в клип джастин, кстати, выглядеть очень бодрый и наконец выздоравливать от болезнь и депрессия.\n",
        "отдельный прикол в то, что он там «читать» строчка про свой бывший девушка селен гомес, про себя сам и про то, насколько дрейк - крутой они все и взрывать индустрия 😂🤟'''"
      ],
      "execution_count": null,
      "outputs": []
    },
    {
      "cell_type": "markdown",
      "metadata": {
        "id": "Z2529Ids_v8K"
      },
      "source": [
        "37. (1 балл) Разделите текст на предложения (используя `\"\\n\"`) "
      ]
    },
    {
      "cell_type": "code",
      "metadata": {
        "id": "DWR1Ckig_v8K",
        "colab": {
          "base_uri": "https://localhost:8080/"
        },
        "outputId": "4f94ad91-a5ec-476a-8344-58ab300b681b"
      },
      "source": [
        "multi_line_str = '''1. DJ Khaled замутить трек, в который читать только Drake. \n",
        "2. Drake организовывать на этот песня очень крутой клип, в который вместо он сниматься только джастин бибер.\n",
        "\n",
        "видимо, награда за весь это быть получать леонардо дикаприо 😅\n",
        "\n",
        "в клип джастин, кстати, выглядеть очень бодрый и наконец выздоравливать от болезнь и депрессия.\n",
        "отдельный прикол в то, что он там «читать» строчка про свой бывший девушка селен гомес, про себя сам и про то, насколько дрейк - крутой они все и взрывать индустрия 😂🤟'''\n",
        "ml_list = multi_line_str.split(\"\\n\")\n",
        "print(ml_list)"
      ],
      "execution_count": 13,
      "outputs": [
        {
          "output_type": "stream",
          "name": "stdout",
          "text": [
            "['1. DJ Khaled замутить трек, в который читать только Drake. ', '2. Drake организовывать на этот песня очень крутой клип, в который вместо он сниматься только джастин бибер.', '', 'видимо, награда за весь это быть получать леонардо дикаприо 😅', '', 'в клип джастин, кстати, выглядеть очень бодрый и наконец выздоравливать от болезнь и депрессия.', 'отдельный прикол в то, что он там «читать» строчка про свой бывший девушка селен гомес, про себя сам и про то, насколько дрейк - крутой они все и взрывать индустрия 😂🤟']\n"
          ]
        }
      ]
    },
    {
      "cell_type": "markdown",
      "metadata": {
        "id": "pa1_7zAS_v8K"
      },
      "source": [
        "38. (2 балла) Разделите предложения на слова, удалите пунктуацию до и после слов, используя `.strip()`. И кавычки тоже удалите."
      ]
    },
    {
      "cell_type": "code",
      "metadata": {
        "id": "Fj0ZPwO1_v8K",
        "colab": {
          "base_uri": "https://localhost:8080/"
        },
        "outputId": "54ca0dbc-305b-494f-976c-eb4bddd05a97"
      },
      "source": [
        "multi_line_str = '''1. DJ Khaled замутить трек, в который читать только Drake. \n",
        "2. Drake организовывать на этот песня очень крутой клип, в который вместо он сниматься только джастин бибер.\n",
        "\n",
        "видимо, награда за весь это быть получать леонардо дикаприо 😅\n",
        "\n",
        "в клип джастин, кстати, выглядеть очень бодрый и наконец выздоравливать от болезнь и депрессия.\n",
        "отдельный прикол в то, что он там «читать» строчка про свой бывший девушка селен гомес, про себя сам и про то, насколько дрейк - крутой они все и взрывать индустрия 😂🤟'''\n",
        "tmp_list = []\n",
        "word_list= []\n",
        "for i in range(0,len(ml_list)):\n",
        "  tmp_list = ml_list[i].split()\n",
        "  for j in range(0,len(tmp_list)):\n",
        "    word_list.append(tmp_list[j].strip(' .,!-''\"\"'))\n",
        "print(word_list)"
      ],
      "execution_count": 14,
      "outputs": [
        {
          "output_type": "stream",
          "name": "stdout",
          "text": [
            "['1', 'DJ', 'Khaled', 'замутить', 'трек', 'в', 'который', 'читать', 'только', 'Drake', '2', 'Drake', 'организовывать', 'на', 'этот', 'песня', 'очень', 'крутой', 'клип', 'в', 'который', 'вместо', 'он', 'сниматься', 'только', 'джастин', 'бибер', 'видимо', 'награда', 'за', 'весь', 'это', 'быть', 'получать', 'леонардо', 'дикаприо', '😅', 'в', 'клип', 'джастин', 'кстати', 'выглядеть', 'очень', 'бодрый', 'и', 'наконец', 'выздоравливать', 'от', 'болезнь', 'и', 'депрессия', 'отдельный', 'прикол', 'в', 'то', 'что', 'он', 'там', '«читать»', 'строчка', 'про', 'свой', 'бывший', 'девушка', 'селен', 'гомес', 'про', 'себя', 'сам', 'и', 'про', 'то', 'насколько', 'дрейк', '', 'крутой', 'они', 'все', 'и', 'взрывать', 'индустрия', '😂🤟']\n"
          ]
        }
      ]
    },
    {
      "cell_type": "markdown",
      "metadata": {
        "id": "H6JJW1GH_v8K"
      },
      "source": [
        "39. (2 балла) Создайте словарь, в котором ключ -- слово из текста, а значение -- количество раз, сколько оно встречается во всем тексте.\n",
        "\n",
        "например:\n",
        "\n",
        "`dct = {\"go\": 1, \"went\": 2, \"gone\": 3}`\n",
        "\n",
        "Напечатайте словарь"
      ]
    },
    {
      "cell_type": "code",
      "metadata": {
        "id": "cy5_T8yM_v8L",
        "colab": {
          "base_uri": "https://localhost:8080/"
        },
        "outputId": "d19fe5ba-15d2-4f24-c9e7-901d868c84e2"
      },
      "source": [
        "dct = {\"Ты\": 1, \"Отлично\": 2, \"Справляешься\": 3}\n",
        "for keys, values in dct.items():\n",
        "    print(keys)\n",
        "    print(values)"
      ],
      "execution_count": 15,
      "outputs": [
        {
          "output_type": "stream",
          "name": "stdout",
          "text": [
            "Ты\n",
            "1\n",
            "Отлично\n",
            "2\n",
            "Справляешься\n",
            "3\n"
          ]
        }
      ]
    },
    {
      "cell_type": "markdown",
      "metadata": {
        "id": "lCKeMfMY_v8L"
      },
      "source": [
        "40. (2 балла) Напечатайте слова, встречающиеся более 1 раза в формате `\"слово кол-во раз\"` через пробел.\n",
        "\n",
        "    * Если сможете напечатать в порядке убывания (от большего к меньшему) + 2 балла"
      ]
    },
    {
      "cell_type": "code",
      "metadata": {
        "id": "bd5BAdeu_v8L"
      },
      "source": [
        "dct = {\"Ты\": 1, \"Отлично\": 2, \"Справляешься\": 3}\n",
        "sorted_values = sorted(dct.values(), reverse=True)\n",
        "sorted_dct = {}\n",
        "for i in sorted_values:\n",
        "  for k in dct.keys():\n",
        "    if dct[k] == i:\n",
        "      sorted_dct[k] = dct[k]\n",
        "      break\n",
        "\n",
        "for keys, values in sorted_dct.items():\n",
        "  if values > 1:\n",
        "    print(keys, \" \", values)\n"
      ],
      "execution_count": null,
      "outputs": []
    },
    {
      "cell_type": "markdown",
      "metadata": {
        "id": "6mEkbtQk_v8M"
      },
      "source": [
        "41. (2 балла) Пользователь вводит с клавиатуры какое-нибудь слово.\n",
        "Проверяем, есть ли слово в массиве: если нет, добавляем его туда и печатаем \"Слово X добавлено\", а если есть, то печатаем ответ \"Слово X в тексте N раз\"."
      ]
    },
    {
      "cell_type": "code",
      "metadata": {
        "id": "JvQMP8wR_v8M"
      },
      "source": [
        "my_list = ['one', 'two', 'three', 'four', 'four', 'five']\n",
        "new_word = str(input())\n",
        "if new_word in my_list:\n",
        "  k = my_list.count(new_word)\n",
        "  print(\"Слово \", new_word, \" в списке \", k, \" раз\")\n",
        "else:\n",
        "  my_list.append(word)\n",
        "  print(\"Слово \", new_word, \" добавлено\")\n"
      ],
      "execution_count": null,
      "outputs": []
    },
    {
      "cell_type": "markdown",
      "metadata": {
        "id": "YTZ_hhhBFasx"
      },
      "source": [
        "## Задания со звездочкой (9 или 10 можно получить, решив эти задания)"
      ]
    },
    {
      "cell_type": "markdown",
      "metadata": {
        "id": "159FPHDYFpk1"
      },
      "source": [
        "42. По заданному n вывести левосторонний треугольник из следующих цифр:\n"
      ]
    },
    {
      "cell_type": "code",
      "metadata": {
        "colab": {
          "base_uri": "https://localhost:8080/"
        },
        "id": "KqJoZEUIFaEd",
        "outputId": "c9cf3850-134a-48de-d7a3-dc8199cf66ab"
      },
      "source": [
        "n = 10\n",
        "previous = []\n",
        "for i in range (n):\n",
        "  previous.append(i)\n",
        "  print(*previous)"
      ],
      "execution_count": 16,
      "outputs": [
        {
          "output_type": "stream",
          "name": "stdout",
          "text": [
            "0\n",
            "0 1\n",
            "0 1 2\n",
            "0 1 2 3\n",
            "0 1 2 3 4\n",
            "0 1 2 3 4 5\n",
            "0 1 2 3 4 5 6\n",
            "0 1 2 3 4 5 6 7\n",
            "0 1 2 3 4 5 6 7 8\n",
            "0 1 2 3 4 5 6 7 8 9\n"
          ]
        }
      ]
    },
    {
      "cell_type": "markdown",
      "metadata": {
        "id": "-9rUNF4-Fofe"
      },
      "source": [
        "43. По заданному n вывести перевернутый правосторонний треугольник из следующих цифр"
      ]
    },
    {
      "cell_type": "code",
      "metadata": {
        "id": "Sa7ZDOa-Fm7O"
      },
      "source": [
        ""
      ],
      "execution_count": null,
      "outputs": []
    },
    {
      "cell_type": "markdown",
      "metadata": {
        "id": "y1BSSdWe_v8N"
      },
      "source": [
        "#### Напишите ниже вашу обратную связь по домашнему заданию в комментарии. \n",
        "\n",
        "#### Какие задания показались вам самыми сложными / простыми? Что понравилось, а что нет?"
      ]
    },
    {
      "cell_type": "code",
      "metadata": {
        "id": "xciAjxQG_v8N"
      },
      "source": [
        ""
      ],
      "execution_count": null,
      "outputs": []
    }
  ]
}